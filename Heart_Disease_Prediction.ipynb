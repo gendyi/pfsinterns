{
  "nbformat": 4,
  "nbformat_minor": 0,
  "metadata": {
    "colab": {
      "provenance": []
    },
    "kernelspec": {
      "name": "python3",
      "display_name": "Python 3"
    },
    "language_info": {
      "name": "python"
    }
  },
  "cells": [
    {
      "cell_type": "markdown",
      "source": [
        "importing libraries"
      ],
      "metadata": {
        "id": "AM91m8gYmF-c"
      }
    },
    {
      "cell_type": "code",
      "source": [
        "import pandas as pd\n",
        "import numpy as np\n",
        "from sklearn.model_selection import train_test_split\n",
        "from sklearn.preprocessing import LabelEncoder, StandardScaler\n",
        "from sklearn.ensemble import RandomForestClassifier\n",
        "from sklearn.linear_model import LogisticRegression\n",
        "from sklearn.impute import SimpleImputer\n",
        "from sklearn.metrics import classification_report, accuracy_score, confusion_matrix\n",
        "import seaborn as sns\n",
        "import matplotlib.pyplot as plt"
      ],
      "metadata": {
        "id": "8aa-zxNnmGHm"
      },
      "execution_count": null,
      "outputs": []
    },
    {
      "cell_type": "markdown",
      "source": [
        "loading and preprossisng"
      ],
      "metadata": {
        "id": "X8a_3F14mPdj"
      }
    },
    {
      "cell_type": "code",
      "source": [
        "\n",
        "data = pd.read_csv('/content/heart_disease_uci.csv')\n",
        "\n",
        "numeric_cols = data.select_dtypes(include=[np.number]).columns\n",
        "categorical_cols = data.select_dtypes(include=['object']).columns\n",
        "\n",
        "num_imputer = SimpleImputer(strategy=\"median\")\n",
        "data[numeric_cols] = num_imputer.fit_transform(data[numeric_cols])\n",
        "\n",
        "cat_imputer = SimpleImputer(strategy=\"most_frequent\")\n",
        "data[categorical_cols] = cat_imputer.fit_transform(data[categorical_cols])\n",
        "\n",
        "label_encoders = {}\n",
        "for column in categorical_cols:\n",
        "    le = LabelEncoder()\n",
        "    data[column] = le.fit_transform(data[column])\n",
        "    label_encoders[column] = le"
      ],
      "metadata": {
        "id": "qmbnJ73jmXK-"
      },
      "execution_count": null,
      "outputs": []
    },
    {
      "cell_type": "markdown",
      "source": [
        "split the data and scale the fatures"
      ],
      "metadata": {
        "id": "VX1ADKCzmhiB"
      }
    },
    {
      "cell_type": "code",
      "source": [
        "\n",
        "X = data.drop('num', axis=1)\n",
        "y = data['num']\n",
        "\n",
        "scaler = StandardScaler()\n",
        "X_scaled = scaler.fit_transform(X)\n",
        "X_train, X_test, y_train, y_test = train_test_split(X_scaled, y, test_size=0.2, random_state=42)"
      ],
      "metadata": {
        "id": "ir48AQO8mv4g"
      },
      "execution_count": null,
      "outputs": []
    },
    {
      "cell_type": "markdown",
      "source": [
        "model1 logistic"
      ],
      "metadata": {
        "id": "Ls8Xg-Xbm22j"
      }
    },
    {
      "cell_type": "code",
      "source": [
        "log_reg = LogisticRegression(random_state=42)\n",
        "log_reg.fit(X_train, y_train)\n",
        "y_pred_log = log_reg.predict(X_test)\n",
        "print(\"Logistic Regression Results:\")\n",
        "print(\"Accuracy:\", accuracy_score(y_test, y_pred_log))\n",
        "print(classification_report(y_test, y_pred_log))\n",
        "\n",
        "from sklearn.model_selection import GridSearchCV\n",
        "\n",
        "\n",
        "param_grid = {\n",
        "    'n_estimators': [50, 100, 200],\n",
        "    'max_depth': [None, 10, 20, 30],\n",
        "    'min_samples_split': [2, 5, 10],\n",
        "}"
      ],
      "metadata": {
        "colab": {
          "base_uri": "https://localhost:8080/"
        },
        "id": "a_4-mDDZm35l",
        "outputId": "9c8967b4-8893-4e2c-cdba-65b2ed07f2da"
      },
      "execution_count": null,
      "outputs": [
        {
          "output_type": "stream",
          "name": "stdout",
          "text": [
            "Logistic Regression Results:\n",
            "Accuracy: 0.5434782608695652\n",
            "              precision    recall  f1-score   support\n",
            "\n",
            "         0.0       0.68      0.92      0.78        75\n",
            "         1.0       0.45      0.46      0.45        54\n",
            "         2.0       0.22      0.08      0.12        25\n",
            "         3.0       0.24      0.15      0.19        26\n",
            "         4.0       0.00      0.00      0.00         4\n",
            "\n",
            "    accuracy                           0.54       184\n",
            "   macro avg       0.32      0.32      0.31       184\n",
            "weighted avg       0.47      0.54      0.50       184\n",
            "\n"
          ]
        }
      ]
    },
    {
      "cell_type": "markdown",
      "source": [
        "model 2 random forrest"
      ],
      "metadata": {
        "id": "XnKbmOTxnNYB"
      }
    },
    {
      "cell_type": "code",
      "execution_count": null,
      "metadata": {
        "colab": {
          "base_uri": "https://localhost:8080/",
          "height": 1000
        },
        "id": "colBLrlVMej8",
        "outputId": "698777c2-5a98-4ec5-d1d7-31e0d5a1b9dd"
      },
      "outputs": [
        {
          "output_type": "stream",
          "name": "stdout",
          "text": [
            "Fitting 5 folds for each of 36 candidates, totalling 180 fits\n",
            "[CV] END max_depth=None, min_samples_split=2, n_estimators=50; total time=   0.1s\n",
            "[CV] END max_depth=None, min_samples_split=2, n_estimators=50; total time=   0.1s\n",
            "[CV] END max_depth=None, min_samples_split=2, n_estimators=50; total time=   0.1s\n",
            "[CV] END max_depth=None, min_samples_split=2, n_estimators=50; total time=   0.1s\n",
            "[CV] END max_depth=None, min_samples_split=2, n_estimators=50; total time=   0.1s\n",
            "[CV] END max_depth=None, min_samples_split=2, n_estimators=100; total time=   0.4s\n",
            "[CV] END max_depth=None, min_samples_split=2, n_estimators=100; total time=   0.2s\n",
            "[CV] END max_depth=None, min_samples_split=2, n_estimators=100; total time=   0.2s\n",
            "[CV] END max_depth=None, min_samples_split=2, n_estimators=100; total time=   0.4s\n",
            "[CV] END max_depth=None, min_samples_split=2, n_estimators=100; total time=   0.4s\n",
            "[CV] END max_depth=None, min_samples_split=2, n_estimators=200; total time=   0.7s\n",
            "[CV] END max_depth=None, min_samples_split=2, n_estimators=200; total time=   0.8s\n",
            "[CV] END max_depth=None, min_samples_split=2, n_estimators=200; total time=   0.8s\n",
            "[CV] END max_depth=None, min_samples_split=2, n_estimators=200; total time=   0.6s\n",
            "[CV] END max_depth=None, min_samples_split=2, n_estimators=200; total time=   0.4s\n",
            "[CV] END max_depth=None, min_samples_split=5, n_estimators=50; total time=   0.1s\n",
            "[CV] END max_depth=None, min_samples_split=5, n_estimators=50; total time=   0.1s\n",
            "[CV] END max_depth=None, min_samples_split=5, n_estimators=50; total time=   0.1s\n",
            "[CV] END max_depth=None, min_samples_split=5, n_estimators=50; total time=   0.1s\n",
            "[CV] END max_depth=None, min_samples_split=5, n_estimators=50; total time=   0.1s\n",
            "[CV] END max_depth=None, min_samples_split=5, n_estimators=100; total time=   0.2s\n",
            "[CV] END max_depth=None, min_samples_split=5, n_estimators=100; total time=   0.2s\n",
            "[CV] END max_depth=None, min_samples_split=5, n_estimators=100; total time=   0.2s\n",
            "[CV] END max_depth=None, min_samples_split=5, n_estimators=100; total time=   0.2s\n",
            "[CV] END max_depth=None, min_samples_split=5, n_estimators=100; total time=   0.2s\n",
            "[CV] END max_depth=None, min_samples_split=5, n_estimators=200; total time=   0.4s\n",
            "[CV] END max_depth=None, min_samples_split=5, n_estimators=200; total time=   0.4s\n",
            "[CV] END max_depth=None, min_samples_split=5, n_estimators=200; total time=   0.4s\n",
            "[CV] END max_depth=None, min_samples_split=5, n_estimators=200; total time=   0.4s\n",
            "[CV] END max_depth=None, min_samples_split=5, n_estimators=200; total time=   0.4s\n",
            "[CV] END max_depth=None, min_samples_split=10, n_estimators=50; total time=   0.1s\n",
            "[CV] END max_depth=None, min_samples_split=10, n_estimators=50; total time=   0.1s\n",
            "[CV] END max_depth=None, min_samples_split=10, n_estimators=50; total time=   0.1s\n",
            "[CV] END max_depth=None, min_samples_split=10, n_estimators=50; total time=   0.1s\n",
            "[CV] END max_depth=None, min_samples_split=10, n_estimators=50; total time=   0.1s\n",
            "[CV] END max_depth=None, min_samples_split=10, n_estimators=100; total time=   0.2s\n",
            "[CV] END max_depth=None, min_samples_split=10, n_estimators=100; total time=   0.2s\n",
            "[CV] END max_depth=None, min_samples_split=10, n_estimators=100; total time=   0.2s\n",
            "[CV] END max_depth=None, min_samples_split=10, n_estimators=100; total time=   0.2s\n",
            "[CV] END max_depth=None, min_samples_split=10, n_estimators=100; total time=   0.2s\n",
            "[CV] END max_depth=None, min_samples_split=10, n_estimators=200; total time=   0.4s\n",
            "[CV] END max_depth=None, min_samples_split=10, n_estimators=200; total time=   0.4s\n",
            "[CV] END max_depth=None, min_samples_split=10, n_estimators=200; total time=   0.4s\n",
            "[CV] END max_depth=None, min_samples_split=10, n_estimators=200; total time=   0.4s\n",
            "[CV] END max_depth=None, min_samples_split=10, n_estimators=200; total time=   0.4s\n",
            "[CV] END .max_depth=10, min_samples_split=2, n_estimators=50; total time=   0.1s\n",
            "[CV] END .max_depth=10, min_samples_split=2, n_estimators=50; total time=   0.1s\n",
            "[CV] END .max_depth=10, min_samples_split=2, n_estimators=50; total time=   0.1s\n",
            "[CV] END .max_depth=10, min_samples_split=2, n_estimators=50; total time=   0.1s\n",
            "[CV] END .max_depth=10, min_samples_split=2, n_estimators=50; total time=   0.1s\n",
            "[CV] END max_depth=10, min_samples_split=2, n_estimators=100; total time=   0.2s\n",
            "[CV] END max_depth=10, min_samples_split=2, n_estimators=100; total time=   0.2s\n",
            "[CV] END max_depth=10, min_samples_split=2, n_estimators=100; total time=   0.2s\n",
            "[CV] END max_depth=10, min_samples_split=2, n_estimators=100; total time=   0.2s\n",
            "[CV] END max_depth=10, min_samples_split=2, n_estimators=100; total time=   0.2s\n",
            "[CV] END max_depth=10, min_samples_split=2, n_estimators=200; total time=   0.6s\n",
            "[CV] END max_depth=10, min_samples_split=2, n_estimators=200; total time=   0.7s\n",
            "[CV] END max_depth=10, min_samples_split=2, n_estimators=200; total time=   0.7s\n",
            "[CV] END max_depth=10, min_samples_split=2, n_estimators=200; total time=   0.7s\n",
            "[CV] END max_depth=10, min_samples_split=2, n_estimators=200; total time=   0.7s\n",
            "[CV] END .max_depth=10, min_samples_split=5, n_estimators=50; total time=   0.1s\n",
            "[CV] END .max_depth=10, min_samples_split=5, n_estimators=50; total time=   0.1s\n",
            "[CV] END .max_depth=10, min_samples_split=5, n_estimators=50; total time=   0.1s\n",
            "[CV] END .max_depth=10, min_samples_split=5, n_estimators=50; total time=   0.1s\n",
            "[CV] END .max_depth=10, min_samples_split=5, n_estimators=50; total time=   0.1s\n",
            "[CV] END max_depth=10, min_samples_split=5, n_estimators=100; total time=   0.2s\n",
            "[CV] END max_depth=10, min_samples_split=5, n_estimators=100; total time=   0.2s\n",
            "[CV] END max_depth=10, min_samples_split=5, n_estimators=100; total time=   0.2s\n",
            "[CV] END max_depth=10, min_samples_split=5, n_estimators=100; total time=   0.2s\n",
            "[CV] END max_depth=10, min_samples_split=5, n_estimators=100; total time=   0.2s\n",
            "[CV] END max_depth=10, min_samples_split=5, n_estimators=200; total time=   0.4s\n",
            "[CV] END max_depth=10, min_samples_split=5, n_estimators=200; total time=   0.5s\n",
            "[CV] END max_depth=10, min_samples_split=5, n_estimators=200; total time=   0.5s\n",
            "[CV] END max_depth=10, min_samples_split=5, n_estimators=200; total time=   0.4s\n",
            "[CV] END max_depth=10, min_samples_split=5, n_estimators=200; total time=   0.4s\n",
            "[CV] END max_depth=10, min_samples_split=10, n_estimators=50; total time=   0.1s\n",
            "[CV] END max_depth=10, min_samples_split=10, n_estimators=50; total time=   0.1s\n",
            "[CV] END max_depth=10, min_samples_split=10, n_estimators=50; total time=   0.1s\n",
            "[CV] END max_depth=10, min_samples_split=10, n_estimators=50; total time=   0.1s\n",
            "[CV] END max_depth=10, min_samples_split=10, n_estimators=50; total time=   0.1s\n",
            "[CV] END max_depth=10, min_samples_split=10, n_estimators=100; total time=   0.2s\n",
            "[CV] END max_depth=10, min_samples_split=10, n_estimators=100; total time=   0.2s\n",
            "[CV] END max_depth=10, min_samples_split=10, n_estimators=100; total time=   0.2s\n",
            "[CV] END max_depth=10, min_samples_split=10, n_estimators=100; total time=   0.2s\n",
            "[CV] END max_depth=10, min_samples_split=10, n_estimators=100; total time=   0.2s\n",
            "[CV] END max_depth=10, min_samples_split=10, n_estimators=200; total time=   0.4s\n",
            "[CV] END max_depth=10, min_samples_split=10, n_estimators=200; total time=   0.4s\n",
            "[CV] END max_depth=10, min_samples_split=10, n_estimators=200; total time=   0.4s\n",
            "[CV] END max_depth=10, min_samples_split=10, n_estimators=200; total time=   0.4s\n",
            "[CV] END max_depth=10, min_samples_split=10, n_estimators=200; total time=   0.4s\n",
            "[CV] END .max_depth=20, min_samples_split=2, n_estimators=50; total time=   0.1s\n",
            "[CV] END .max_depth=20, min_samples_split=2, n_estimators=50; total time=   0.1s\n",
            "[CV] END .max_depth=20, min_samples_split=2, n_estimators=50; total time=   0.1s\n",
            "[CV] END .max_depth=20, min_samples_split=2, n_estimators=50; total time=   0.1s\n",
            "[CV] END .max_depth=20, min_samples_split=2, n_estimators=50; total time=   0.1s\n",
            "[CV] END max_depth=20, min_samples_split=2, n_estimators=100; total time=   0.3s\n",
            "[CV] END max_depth=20, min_samples_split=2, n_estimators=100; total time=   0.2s\n",
            "[CV] END max_depth=20, min_samples_split=2, n_estimators=100; total time=   0.3s\n",
            "[CV] END max_depth=20, min_samples_split=2, n_estimators=100; total time=   0.2s\n",
            "[CV] END max_depth=20, min_samples_split=2, n_estimators=100; total time=   0.3s\n",
            "[CV] END max_depth=20, min_samples_split=2, n_estimators=200; total time=   0.5s\n",
            "[CV] END max_depth=20, min_samples_split=2, n_estimators=200; total time=   0.7s\n",
            "[CV] END max_depth=20, min_samples_split=2, n_estimators=200; total time=   0.7s\n",
            "[CV] END max_depth=20, min_samples_split=2, n_estimators=200; total time=   0.7s\n",
            "[CV] END max_depth=20, min_samples_split=2, n_estimators=200; total time=   0.8s\n",
            "[CV] END .max_depth=20, min_samples_split=5, n_estimators=50; total time=   0.2s\n",
            "[CV] END .max_depth=20, min_samples_split=5, n_estimators=50; total time=   0.2s\n",
            "[CV] END .max_depth=20, min_samples_split=5, n_estimators=50; total time=   0.2s\n",
            "[CV] END .max_depth=20, min_samples_split=5, n_estimators=50; total time=   0.4s\n",
            "[CV] END .max_depth=20, min_samples_split=5, n_estimators=50; total time=   0.4s\n",
            "[CV] END max_depth=20, min_samples_split=5, n_estimators=100; total time=   0.3s\n",
            "[CV] END max_depth=20, min_samples_split=5, n_estimators=100; total time=   0.2s\n",
            "[CV] END max_depth=20, min_samples_split=5, n_estimators=100; total time=   0.2s\n",
            "[CV] END max_depth=20, min_samples_split=5, n_estimators=100; total time=   0.2s\n",
            "[CV] END max_depth=20, min_samples_split=5, n_estimators=100; total time=   0.2s\n",
            "[CV] END max_depth=20, min_samples_split=5, n_estimators=200; total time=   0.4s\n",
            "[CV] END max_depth=20, min_samples_split=5, n_estimators=200; total time=   0.5s\n",
            "[CV] END max_depth=20, min_samples_split=5, n_estimators=200; total time=   0.4s\n",
            "[CV] END max_depth=20, min_samples_split=5, n_estimators=200; total time=   0.5s\n",
            "[CV] END max_depth=20, min_samples_split=5, n_estimators=200; total time=   0.4s\n",
            "[CV] END max_depth=20, min_samples_split=10, n_estimators=50; total time=   0.1s\n",
            "[CV] END max_depth=20, min_samples_split=10, n_estimators=50; total time=   0.1s\n",
            "[CV] END max_depth=20, min_samples_split=10, n_estimators=50; total time=   0.1s\n",
            "[CV] END max_depth=20, min_samples_split=10, n_estimators=50; total time=   0.1s\n",
            "[CV] END max_depth=20, min_samples_split=10, n_estimators=50; total time=   0.1s\n",
            "[CV] END max_depth=20, min_samples_split=10, n_estimators=100; total time=   0.2s\n",
            "[CV] END max_depth=20, min_samples_split=10, n_estimators=100; total time=   0.2s\n",
            "[CV] END max_depth=20, min_samples_split=10, n_estimators=100; total time=   0.2s\n",
            "[CV] END max_depth=20, min_samples_split=10, n_estimators=100; total time=   0.2s\n",
            "[CV] END max_depth=20, min_samples_split=10, n_estimators=100; total time=   0.2s\n",
            "[CV] END max_depth=20, min_samples_split=10, n_estimators=200; total time=   0.4s\n",
            "[CV] END max_depth=20, min_samples_split=10, n_estimators=200; total time=   0.4s\n",
            "[CV] END max_depth=20, min_samples_split=10, n_estimators=200; total time=   0.4s\n",
            "[CV] END max_depth=20, min_samples_split=10, n_estimators=200; total time=   0.4s\n",
            "[CV] END max_depth=20, min_samples_split=10, n_estimators=200; total time=   0.4s\n",
            "[CV] END .max_depth=30, min_samples_split=2, n_estimators=50; total time=   0.1s\n",
            "[CV] END .max_depth=30, min_samples_split=2, n_estimators=50; total time=   0.1s\n",
            "[CV] END .max_depth=30, min_samples_split=2, n_estimators=50; total time=   0.1s\n",
            "[CV] END .max_depth=30, min_samples_split=2, n_estimators=50; total time=   0.1s\n",
            "[CV] END .max_depth=30, min_samples_split=2, n_estimators=50; total time=   0.1s\n",
            "[CV] END max_depth=30, min_samples_split=2, n_estimators=100; total time=   0.3s\n",
            "[CV] END max_depth=30, min_samples_split=2, n_estimators=100; total time=   0.2s\n",
            "[CV] END max_depth=30, min_samples_split=2, n_estimators=100; total time=   0.2s\n",
            "[CV] END max_depth=30, min_samples_split=2, n_estimators=100; total time=   0.2s\n",
            "[CV] END max_depth=30, min_samples_split=2, n_estimators=100; total time=   0.2s\n",
            "[CV] END max_depth=30, min_samples_split=2, n_estimators=200; total time=   0.5s\n",
            "[CV] END max_depth=30, min_samples_split=2, n_estimators=200; total time=   0.7s\n",
            "[CV] END max_depth=30, min_samples_split=2, n_estimators=200; total time=   0.7s\n",
            "[CV] END max_depth=30, min_samples_split=2, n_estimators=200; total time=   0.8s\n",
            "[CV] END max_depth=30, min_samples_split=2, n_estimators=200; total time=   0.8s\n",
            "[CV] END .max_depth=30, min_samples_split=5, n_estimators=50; total time=   0.2s\n",
            "[CV] END .max_depth=30, min_samples_split=5, n_estimators=50; total time=   0.2s\n",
            "[CV] END .max_depth=30, min_samples_split=5, n_estimators=50; total time=   0.2s\n",
            "[CV] END .max_depth=30, min_samples_split=5, n_estimators=50; total time=   0.2s\n",
            "[CV] END .max_depth=30, min_samples_split=5, n_estimators=50; total time=   0.1s\n",
            "[CV] END max_depth=30, min_samples_split=5, n_estimators=100; total time=   0.2s\n",
            "[CV] END max_depth=30, min_samples_split=5, n_estimators=100; total time=   0.2s\n",
            "[CV] END max_depth=30, min_samples_split=5, n_estimators=100; total time=   0.2s\n",
            "[CV] END max_depth=30, min_samples_split=5, n_estimators=100; total time=   0.2s\n",
            "[CV] END max_depth=30, min_samples_split=5, n_estimators=100; total time=   0.2s\n",
            "[CV] END max_depth=30, min_samples_split=5, n_estimators=200; total time=   0.4s\n",
            "[CV] END max_depth=30, min_samples_split=5, n_estimators=200; total time=   0.4s\n",
            "[CV] END max_depth=30, min_samples_split=5, n_estimators=200; total time=   0.4s\n",
            "[CV] END max_depth=30, min_samples_split=5, n_estimators=200; total time=   0.4s\n",
            "[CV] END max_depth=30, min_samples_split=5, n_estimators=200; total time=   0.4s\n",
            "[CV] END max_depth=30, min_samples_split=10, n_estimators=50; total time=   0.1s\n",
            "[CV] END max_depth=30, min_samples_split=10, n_estimators=50; total time=   0.1s\n",
            "[CV] END max_depth=30, min_samples_split=10, n_estimators=50; total time=   0.1s\n",
            "[CV] END max_depth=30, min_samples_split=10, n_estimators=50; total time=   0.1s\n",
            "[CV] END max_depth=30, min_samples_split=10, n_estimators=50; total time=   0.1s\n",
            "[CV] END max_depth=30, min_samples_split=10, n_estimators=100; total time=   0.2s\n",
            "[CV] END max_depth=30, min_samples_split=10, n_estimators=100; total time=   0.2s\n",
            "[CV] END max_depth=30, min_samples_split=10, n_estimators=100; total time=   0.2s\n",
            "[CV] END max_depth=30, min_samples_split=10, n_estimators=100; total time=   0.2s\n",
            "[CV] END max_depth=30, min_samples_split=10, n_estimators=100; total time=   0.2s\n",
            "[CV] END max_depth=30, min_samples_split=10, n_estimators=200; total time=   0.4s\n",
            "[CV] END max_depth=30, min_samples_split=10, n_estimators=200; total time=   0.4s\n",
            "[CV] END max_depth=30, min_samples_split=10, n_estimators=200; total time=   0.4s\n",
            "[CV] END max_depth=30, min_samples_split=10, n_estimators=200; total time=   0.4s\n",
            "[CV] END max_depth=30, min_samples_split=10, n_estimators=200; total time=   0.4s\n",
            "Best parameters found:  {'max_depth': 10, 'min_samples_split': 2, 'n_estimators': 200}\n",
            "\n",
            "Random Forest Classifier Results (Tuned):\n",
            "Accuracy: 0.6195652173913043\n",
            "              precision    recall  f1-score   support\n",
            "\n",
            "         0.0       0.75      0.89      0.82        75\n",
            "         1.0       0.54      0.63      0.58        54\n",
            "         2.0       0.46      0.24      0.32        25\n",
            "         3.0       0.39      0.27      0.32        26\n",
            "         4.0       0.00      0.00      0.00         4\n",
            "\n",
            "    accuracy                           0.62       184\n",
            "   macro avg       0.43      0.41      0.41       184\n",
            "weighted avg       0.58      0.62      0.59       184\n",
            "\n"
          ]
        },
        {
          "output_type": "display_data",
          "data": {
            "text/plain": [
              "<Figure size 640x480 with 2 Axes>"
            ],
            "image/png": "[encoded data removed]"
          },
          "metadata": {}
        }
      ],
      "source": [
        "\n",
        "\n",
        "\n",
        "grid_search = GridSearchCV(estimator=RandomForestClassifier(random_state=42),\n",
        "                           param_grid=param_grid,\n",
        "                           scoring='accuracy',\n",
        "                           cv=5,\n",
        "                           verbose=2)\n",
        "\n",
        "\n",
        "grid_search.fit(X_train, y_train)\n",
        "\n",
        "\n",
        "print(\"Best parameters found: \", grid_search.best_params_)\n",
        "\n",
        "\n",
        "best_rf = grid_search.best_estimator_\n",
        "y_pred_best_rf = best_rf.predict(X_test)\n",
        "\n",
        "\n",
        "print(\"\\nRandom Forest Classifier Results (Tuned):\")\n",
        "print(\"Accuracy:\", accuracy_score(y_test, y_pred_best_rf))\n",
        "print(classification_report(y_test, y_pred_best_rf))\n",
        "\n",
        "\n",
        "\n",
        "conf_matrix = confusion_matrix(y_test, y_pred_rf)\n",
        "sns.heatmap(conf_matrix, annot=True, fmt='d', cmap='Blues')\n",
        "plt.xlabel('Predicted')\n",
        "plt.ylabel('Actual')\n",
        "plt.title('Confusion Matrix for Random Forest')\n",
        "plt.show()\n"
      ]
    }
  ]
}